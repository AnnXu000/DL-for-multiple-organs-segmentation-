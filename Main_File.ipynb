{
  "nbformat": 4,
  "nbformat_minor": 0,
  "metadata": {
    "colab": {
      "name": "Main File.ipynb",
      "provenance": [],
      "collapsed_sections": [],
      "machine_shape": "hm"
    },
    "kernelspec": {
      "name": "python3",
      "display_name": "Python 3"
    }
  },
  "cells": [
    {
      "cell_type": "markdown",
      "metadata": {
        "id": "GyVJIGEoyFaK",
        "colab_type": "text"
      },
      "source": [
        "###**Connecting Google Drive**"
      ]
    },
    {
      "cell_type": "code",
      "metadata": {
        "id": "1QbG7C_m5GuC",
        "colab_type": "code",
        "colab": {}
      },
      "source": [
        "# a = []\n",
        "# while(1):\n",
        "#     a.append(\"1\")                                                                                                                                                                                                                                                                                                          "
      ],
      "execution_count": 1,
      "outputs": []
    },
    {
      "cell_type": "code",
      "metadata": {
        "id": "dwcTehAHeX2Q",
        "colab_type": "code",
        "colab": {
          "base_uri": "https://localhost:8080/",
          "height": 33
        },
        "outputId": "054f060a-1c2b-4851-e4b5-a70108f50cdd"
      },
      "source": [
        "! python --version"
      ],
      "execution_count": 2,
      "outputs": [
        {
          "output_type": "stream",
          "text": [
            "Python 3.6.9\n"
          ],
          "name": "stdout"
        }
      ]
    },
    {
      "cell_type": "code",
      "metadata": {
        "id": "K9QSK8_LqjTD",
        "colab_type": "code",
        "colab": {
          "base_uri": "https://localhost:8080/",
          "height": 118
        },
        "outputId": "cd0200f4-b97a-4b7e-ff3d-078106ae1731"
      },
      "source": [
        "from google.colab import drive\n",
        "import os\n",
        "drive.mount('/content/drive',force_remount=True)\n",
        "os.chdir('/content/drive/My Drive/Yours ANN :))')"
      ],
      "execution_count": 3,
      "outputs": [
        {
          "output_type": "stream",
          "text": [
            "Go to this URL in a browser: https://accounts.google.com/o/oauth2/auth?client_id=947318989803-6bn6qk8qdgf4n4g3pfee6491hc0brc4i.apps.googleusercontent.com&redirect_uri=urn%3aietf%3awg%3aoauth%3a2.0%3aoob&scope=email%20https%3a%2f%2fwww.googleapis.com%2fauth%2fdocs.test%20https%3a%2f%2fwww.googleapis.com%2fauth%2fdrive%20https%3a%2f%2fwww.googleapis.com%2fauth%2fdrive.photos.readonly%20https%3a%2f%2fwww.googleapis.com%2fauth%2fpeopleapi.readonly&response_type=code\n",
            "\n",
            "Enter your authorization code:\n",
            "4/3wFAKmOsQqeBpHaXFFTCLfxO4z6_gf9NcbT5_clXyko2GFkal02mYRE\n",
            "Mounted at /content/drive\n"
          ],
          "name": "stdout"
        }
      ]
    },
    {
      "cell_type": "code",
      "metadata": {
        "id": "ZPyfIr5prlRX",
        "colab_type": "code",
        "colab": {
          "base_uri": "https://localhost:8080/",
          "height": 456
        },
        "outputId": "a2e60d09-7d3a-4ec5-8421-5575125b0b3e"
      },
      "source": [
        "os.listdir()"
      ],
      "execution_count": 4,
      "outputs": [
        {
          "output_type": "execute_result",
          "data": {
            "text/plain": [
              "['.ipynb_checkpoints',\n",
              " 'volume-49.nii.gz',\n",
              " 'labels-49.nii.gz',\n",
              " 'volume-91.nii.gz',\n",
              " 'hi！',\n",
              " 'all datasets',\n",
              " 'README.txt',\n",
              " 'labels',\n",
              " 'hi!-labels',\n",
              " 'labels-91.nii.gz',\n",
              " 'Model_logs',\n",
              " 'data2.npy',\n",
              " 'labels2.npy',\n",
              " 'hilabels.npy',\n",
              " 'Y_pre1.npy',\n",
              " 'hi.npy',\n",
              " 'data1.npy',\n",
              " 'labels1.npy',\n",
              " 'X_train1.npy',\n",
              " 'Y_train1.npy',\n",
              " 'Y_test1.npy',\n",
              " 'unet.png',\n",
              " 'X_test1.npy',\n",
              " 'X_val1.npy',\n",
              " 'Y_val1.npy',\n",
              " 'weights.hdf5',\n",
              " 'Try_a_simple_One_555.ipynb']"
            ]
          },
          "metadata": {
            "tags": []
          },
          "execution_count": 4
        }
      ]
    },
    {
      "cell_type": "code",
      "metadata": {
        "id": "OBTjGOun6nI9",
        "colab_type": "code",
        "colab": {
          "base_uri": "https://localhost:8080/",
          "height": 118
        },
        "outputId": "ca924963-985b-4520-d943-ce5d03e8e711"
      },
      "source": [
        "!pip install SimpleITK"
      ],
      "execution_count": 5,
      "outputs": [
        {
          "output_type": "stream",
          "text": [
            "Collecting SimpleITK\n",
            "\u001b[?25l  Downloading https://files.pythonhosted.org/packages/f8/d8/53338c34f71020725ffb3557846c80af96c29c03bc883551a2565aa68a7c/SimpleITK-1.2.4-cp36-cp36m-manylinux1_x86_64.whl (42.5MB)\n",
            "\u001b[K     |████████████████████████████████| 42.5MB 100kB/s \n",
            "\u001b[?25hInstalling collected packages: SimpleITK\n",
            "Successfully installed SimpleITK-1.2.4\n"
          ],
          "name": "stdout"
        }
      ]
    },
    {
      "cell_type": "code",
      "metadata": {
        "id": "0YIo4sMbrp7A",
        "colab_type": "code",
        "colab": {}
      },
      "source": [
        "path='/content/drive/My Drive/Yours ANN :))/hi！/'\n",
        "pathlabels='/content/drive/My Drive/Yours ANN :))/hi!-labels/'\n",
        "\n",
        "path1='/content/drive/My Drive/Yours ANN :))/all datasets/volumes 0-69/'\n",
        "path2='/content/drive/My Drive/Yours ANN :))/all datasets/volumes 70-139/'\n",
        "pathlabels1='/content/drive/My Drive/Yours ANN :))/labels/labels 0-69/'\n",
        "pathlabels2='/content/drive/My Drive/Yours ANN :))/labels/labels 70-139/'"
      ],
      "execution_count": 6,
      "outputs": []
    },
    {
      "cell_type": "code",
      "metadata": {
        "id": "52Ejxah-sdqR",
        "colab_type": "code",
        "colab": {}
      },
      "source": [
        "import SimpleITK as sitk \n",
        "from tqdm import tqdm\n",
        "import numpy as np\n",
        "import matplotlib.pyplot as plt"
      ],
      "execution_count": 7,
      "outputs": []
    },
    {
      "cell_type": "code",
      "metadata": {
        "id": "ZSFP5u0psfCv",
        "colab_type": "code",
        "colab": {}
      },
      "source": [
        "# my_dir = os.listdir(path2)\n",
        "# print(my_dir[:30])\n",
        "# for p in tqdm(my_dir):\n",
        "#   data_list = path1+p\n",
        "#   print(data_list)\n",
        "#   print(p)\n",
        "#   img_itk = sitk.ReadImage(path1 + p)\n",
        "#   image = sitk.GetArrayFromImage(img_itk)\n",
        "#   break"
      ],
      "execution_count": 8,
      "outputs": []
    },
    {
      "cell_type": "code",
      "metadata": {
        "id": "WoDKtoLNLy9F",
        "colab_type": "code",
        "colab": {
          "base_uri": "https://localhost:8080/",
          "height": 570
        },
        "outputId": "e04dd5a5-d94b-4262-93ad-d665672fe36a"
      },
      "source": [
        "#  Using simpleitk to get the z-latitude median to see the 2D effect of a CT\n",
        "img_itk = sitk.ReadImage(\"/content/drive/My Drive/Yours ANN :))/volume-49.nii.gz\")\n",
        "#  <class 'SimpleITK.SimpleITK.Image'>\n",
        "image = sitk.GetArrayFromImage(img_itk)\n",
        "#  <class 'numpy.ndarray'>\n",
        "# print(image.shape)\n",
        "# (254, 512, 512)\n",
        "data=[]\n",
        "data.append(image)\n",
        "#  <class 'list'>\n",
        "data = np.asarray(data,dtype=np.float32)\n",
        "#  <class 'numpy.ndarray'>\n",
        "print(data.shape)\n",
        "# (1, 254, 512, 512)\n",
        "# print(\"The pic of volume-49:\")\n",
        "# print(np.mean(data),np.max(data))\n",
        "data = (data-np.mean(data))/np.max(data)\n",
        "# print(np.mean(data),np.max(data),np.min(data))\n",
        "import matplotlib.pyplot as plt\n",
        "plt.imshow(data[0,128,:,:])\n",
        "# plt.imshow(data[0,128,:,:],vmin=0,vmax=1)\n",
        "plt.show()\n",
        "\n",
        "\n",
        "from keras.utils import to_categorical,normalize\n",
        "img_itk2 = sitk.ReadImage(\"/content/drive/My Drive/Yours ANN :))/labels-49.nii.gz\")\n",
        "#  <class 'SimpleITK.SimpleITK.Image'>\n",
        "image2 = sitk.GetArrayFromImage(img_itk2)\n",
        "#  <class 'numpy.ndarray'>\n",
        "data2=[]\n",
        "data2.append(image2)\n",
        "#  <class 'list'>\n",
        "data2 = np.asarray(data2,dtype=np.uint8)\n",
        "#  <class 'numpy.ndarray'>\n",
        "print(data2.shape)\n",
        "# (1, 254, 512, 512)\n",
        "# data2=to_categorical(data2,num_classes=6)        #yellow=1,blue=0\n",
        "# (1, 254, 512, 512, 6)\n",
        "print(data2.dtype)\n",
        "import matplotlib.pyplot as plt\n",
        "# for i in range (0,6):\n",
        "plt.imshow(data2[0,128,:,:])\n",
        "plt.show()\n"
      ],
      "execution_count": 33,
      "outputs": [
        {
          "output_type": "stream",
          "text": [
            "(1, 751, 512, 512)\n"
          ],
          "name": "stdout"
        },
        {
          "output_type": "display_data",
          "data": {
            "image/png": "[encoded data removed]",
            "text/plain": [
              "<Figure size 432x288 with 1 Axes>"
            ]
          },
          "metadata": {
            "tags": [],
            "needs_background": "light"
          }
        },
        {
          "output_type": "stream",
          "text": [
            "(1, 751, 512, 512)\n",
            "uint8\n"
          ],
          "name": "stdout"
        },
        {
          "output_type": "display_data",
          "data": {
            "image/png": "[encoded data removed]",
            "text/plain": [
              "<Figure size 432x288 with 1 Axes>"
            ]
          },
          "metadata": {
            "tags": [],
            "needs_background": "light"
          }
        }
      ]
    },
    {
      "cell_type": "code",
      "metadata": {
        "id": "jFSYC9O8q4HC",
        "colab_type": "code",
        "colab": {
          "base_uri": "https://localhost:8080/",
          "height": 366
        },
        "outputId": "42e027cd-031b-40ea-ebaf-f703518cf648"
      },
      "source": [
        "# Get the three dimensions of each CT, finding that each one has a different z-latitude, so we change 3D to 2D to get the plain image\n",
        "pathtry=\"/content/drive/My Drive/Yours ANN :))/volume-49.nii.gz\"\n",
        "img_itk = sitk.ReadImage(pathtry)\n",
        "image = sitk.GetArrayFromImage(img_itk)\n",
        "shape=image.shape\n",
        "z=shape[0]//2\n",
        "b=image[z]\n",
        "# b.resize(512,512,1)\n",
        "b = np.asarray(b,dtype=np.uint8)\n",
        "print(np.min(b))\n",
        "print(np.mean(b))\n",
        "print(np.max(b))\n",
        "import matplotlib.pyplot as plt\n",
        "plt.imshow(b[:,:])\n",
        "plt.show()\n",
        "\n",
        "# image = np.expand_dims(b, axis=2)\n",
        "# image = np.concatenate((image, image, image), axis=-1)\n",
        "# print(image.shape)\n",
        "\n",
        "\n",
        "# print(\"After resizing the z-latitude: \",np.array(b).shape)\n",
        "# print(\"\\n\")\n",
        "data=[]\n",
        "data.append(b)\n",
        "\n",
        "# data = np.asarray(data,dtype=np.uint8)\n",
        "data = np.asarray(data,dtype=np.float32)\n",
        "print(np.min(data))\n",
        "print(np.mean(data))\n",
        "print(np.max(data))\n",
        "# import matplotlib.pyplot as plt\n",
        "# plt.imshow(data[0,:,:,0])\n",
        "# plt.show()\n"
      ],
      "execution_count": 10,
      "outputs": [
        {
          "output_type": "stream",
          "text": [
            "0\n",
            "56.266048431396484\n",
            "255\n"
          ],
          "name": "stdout"
        },
        {
          "output_type": "display_data",
          "data": {
            "image/png": "[encoded data removed]",
            "text/plain": [
              "<Figure size 432x288 with 1 Axes>"
            ]
          },
          "metadata": {
            "tags": [],
            "needs_background": "light"
          }
        },
        {
          "output_type": "stream",
          "text": [
            "0.0\n",
            "56.26605\n",
            "255.0\n"
          ],
          "name": "stdout"
        }
      ]
    },
    {
      "cell_type": "code",
      "metadata": {
        "id": "tpVH5l-vX1D-",
        "colab_type": "code",
        "colab": {}
      },
      "source": [
        "def load_data(path):\n",
        "  my_dir = sorted(os.listdir(path))\n",
        "  data = []\n",
        "  for p in tqdm(my_dir):\n",
        "    img_itk = sitk.ReadImage(path + p)\n",
        "    image = sitk.GetArrayFromImage(img_itk)\n",
        "    shape=image.shape\n",
        "    z=shape[0]//2\n",
        "    image=image[z]\n",
        "    # image = np.asarray(image,dtype=np.uint8)\n",
        "    image.resize(512,512,1)\n",
        "    data.append(image)\n",
        "  data = np.asarray(data,dtype=np.float32) # [array([[[...]]],dtype=float32), array([[[...]]],dtype=float32),...,...] \n",
        "  return data\n",
        "\n",
        "def load_label(path):\n",
        "  my_dir = os.listdir(path)\n",
        "  label = []\n",
        "  for p in tqdm(my_dir):\n",
        "    img_label = sitk.ReadImage(path + p)\n",
        "    image = sitk.GetArrayFromImage(img_label)\n",
        "    shape=image.shape\n",
        "    z=shape[0]//2\n",
        "    image=image[z]\n",
        "    image.resize(512,512,1)\n",
        "    label.append(image)\n",
        "  label = np.asarray(label,dtype=np.uint8)\n",
        "  return label"
      ],
      "execution_count": 11,
      "outputs": []
    },
    {
      "cell_type": "markdown",
      "metadata": {
        "id": "pywt0RtAyQQK",
        "colab_type": "text"
      },
      "source": [
        "###**Loading data from CT scans and saving for usage**"
      ]
    },
    {
      "cell_type": "code",
      "metadata": {
        "id": "KujEQAkeeYvL",
        "colab_type": "code",
        "colab": {}
      },
      "source": [
        "# data = load_data(path)   # dividing data into 2 parts \n",
        "# np.save('hi.npy',data) "
      ],
      "execution_count": 12,
      "outputs": []
    },
    {
      "cell_type": "code",
      "metadata": {
        "id": "mIlwD3qzeb6T",
        "colab_type": "code",
        "colab": {}
      },
      "source": [
        "# labels = load_label(pathlabels)   # dividing data into 2 parts \n",
        "# np.save('hilabels.npy',labels) "
      ],
      "execution_count": 13,
      "outputs": []
    },
    {
      "cell_type": "code",
      "metadata": {
        "id": "2S9gPwyahrrz",
        "colab_type": "code",
        "colab": {}
      },
      "source": [
        "# for volumes 0-69,70-139\n",
        "# data1 = load_data(path1)   # dividing data into 2 parts \n",
        "# np.save('data1.npy',data1) "
      ],
      "execution_count": 14,
      "outputs": []
    },
    {
      "cell_type": "code",
      "metadata": {
        "id": "S4CA7wT4TC1Y",
        "colab_type": "code",
        "colab": {}
      },
      "source": [
        "# data2 = load_data(path2)   # dividing data into 2 parts \n",
        "# np.save('data2.npy',data2) \n",
        "# print(\"All datasets have been cropped to the same size and saved\")"
      ],
      "execution_count": 15,
      "outputs": []
    },
    {
      "cell_type": "code",
      "metadata": {
        "id": "9P1ZIMhRO0Ng",
        "colab_type": "code",
        "colab": {}
      },
      "source": [
        "# #for labels 0-69,70-139\n",
        "# labels1 = load_label(pathlabels1)   # dividing data into 2 parts \n",
        "# np.save('labels1.npy',labels1) "
      ],
      "execution_count": 16,
      "outputs": []
    },
    {
      "cell_type": "code",
      "metadata": {
        "id": "2BxddRwETHio",
        "colab_type": "code",
        "colab": {}
      },
      "source": [
        "# labels2 = load_label(pathlabels2)   # dividing data into 10 parts \n",
        "# np.save('labels2.npy',labels2) \n",
        "# print(\"All labels have been cropped to the same size and saved\")"
      ],
      "execution_count": 17,
      "outputs": []
    },
    {
      "cell_type": "code",
      "metadata": {
        "id": "QWJFCcm55WM-",
        "colab_type": "code",
        "colab": {}
      },
      "source": [
        "data = np.load('/content/drive/My Drive/Yours ANN :))/hi.npy')\n",
        "gt = np.load('/content/drive/My Drive/Yours ANN :))/hilabels.npy')\n",
        "\n",
        "data1 = np.load('/content/drive/My Drive/Yours ANN :))/data1.npy')\n",
        "gt1 = np.load('/content/drive/My Drive/Yours ANN :))/labels1.npy')\n",
        "\n",
        "# data2 = np.load('/content/drive/My Drive/Yours ANN :))/data2.npy')\n",
        "# gt2 = np.load('/content/drive/My Drive/Yours ANN :))/labels2.npy')"
      ],
      "execution_count": 18,
      "outputs": []
    },
    {
      "cell_type": "code",
      "metadata": {
        "id": "xYdTBbEH8opn",
        "colab_type": "code",
        "colab": {
          "base_uri": "https://localhost:8080/",
          "height": 33
        },
        "outputId": "64628671-4d72-40d8-e512-9130316afa02"
      },
      "source": [
        "data.shape,   gt.shape,    data.dtype,    gt.dtype"
      ],
      "execution_count": 19,
      "outputs": [
        {
          "output_type": "execute_result",
          "data": {
            "text/plain": [
              "((20, 512, 512, 1), (20, 512, 512, 1), dtype('float32'), dtype('uint8'))"
            ]
          },
          "metadata": {
            "tags": []
          },
          "execution_count": 19
        }
      ]
    },
    {
      "cell_type": "code",
      "metadata": {
        "id": "aZjy120BZCtb",
        "colab_type": "code",
        "colab": {
          "base_uri": "https://localhost:8080/",
          "height": 50
        },
        "outputId": "94396792-b9f5-4933-e770-bd2c85360d7f"
      },
      "source": [
        "print(\"Data1 and Labels1 shape：\")\n",
        "data1.shape,   gt1.shape,    data1.dtype,    gt1.dtype"
      ],
      "execution_count": 20,
      "outputs": [
        {
          "output_type": "stream",
          "text": [
            "Data1 and Labels1 shape：\n"
          ],
          "name": "stdout"
        },
        {
          "output_type": "execute_result",
          "data": {
            "text/plain": [
              "((70, 512, 512, 1), (70, 512, 512, 1), dtype('float32'), dtype('uint8'))"
            ]
          },
          "metadata": {
            "tags": []
          },
          "execution_count": 20
        }
      ]
    },
    {
      "cell_type": "code",
      "metadata": {
        "id": "-GgrQEh2cYi7",
        "colab_type": "code",
        "colab": {}
      },
      "source": [
        "# print(\"Data2 and Labels2 shape：\")\n",
        "# data2.shape,   gt2.shape,    data2.dtype,    gt2.dtype"
      ],
      "execution_count": 21,
      "outputs": []
    },
    {
      "cell_type": "markdown",
      "metadata": {
        "id": "zbDHOaS4gczm",
        "colab_type": "text"
      },
      "source": [
        "###**Pre-Processing of data**"
      ]
    },
    {
      "cell_type": "code",
      "metadata": {
        "id": "p14sBzVfcQNu",
        "colab_type": "code",
        "colab": {}
      },
      "source": [
        "# gt[np.where(gt==6)]=5   #converting ground truth value of 6 to 5 to do one hot encoding (Consider value 5 in results in output as class 6)"
      ],
      "execution_count": 22,
      "outputs": []
    },
    {
      "cell_type": "code",
      "metadata": {
        "id": "B_kfNDnUvUeO",
        "colab_type": "code",
        "colab": {}
      },
      "source": [
        "from sklearn.model_selection import train_test_split\n",
        "# X_train, X_test, Y_train, Y_test = train_test_split(data, gt, test_size=0.05, random_state=42)\n",
        "\n",
        "X_train, X_test, Y_train, Y_test = train_test_split(data1, gt1, test_size=0.15, random_state=42)\n",
        "# X_train, X_test, Y_train, Y_test = train_test_split(data2, gt2, test_size=0.15, random_state=42)\n",
        "X_train, X_val, Y_train, Y_val = train_test_split(X_train, Y_train, test_size=0.3,random_state=42)"
      ],
      "execution_count": 23,
      "outputs": []
    },
    {
      "cell_type": "code",
      "metadata": {
        "id": "Jz2p7YKKvfxM",
        "colab_type": "code",
        "colab": {
          "base_uri": "https://localhost:8080/",
          "height": 33
        },
        "outputId": "31c97248-3bbc-4d9e-cf21-5234d6f63304"
      },
      "source": [
        "%tensorflow_version 1.x"
      ],
      "execution_count": 24,
      "outputs": [
        {
          "output_type": "stream",
          "text": [
            "TensorFlow is already loaded. Please restart the runtime to change versions.\n"
          ],
          "name": "stdout"
        }
      ]
    },
    {
      "cell_type": "code",
      "metadata": {
        "id": "zCFzq7wIhmwK",
        "colab_type": "code",
        "colab": {
          "base_uri": "https://localhost:8080/",
          "height": 115
        },
        "outputId": "3c60eef2-295a-4744-c16f-29e9e4ade931"
      },
      "source": [
        "X_train.shape,Y_train.shape, X_val.shape, Y_val.shape, X_test.shape, Y_test.shape"
      ],
      "execution_count": 25,
      "outputs": [
        {
          "output_type": "execute_result",
          "data": {
            "text/plain": [
              "((41, 512, 512, 1),\n",
              " (41, 512, 512, 1),\n",
              " (18, 512, 512, 1),\n",
              " (18, 512, 512, 1),\n",
              " (11, 512, 512, 1),\n",
              " (11, 512, 512, 1))"
            ]
          },
          "metadata": {
            "tags": []
          },
          "execution_count": 25
        }
      ]
    },
    {
      "cell_type": "code",
      "metadata": {
        "id": "KbYM_j0KwaK1",
        "colab_type": "code",
        "colab": {
          "base_uri": "https://localhost:8080/",
          "height": 33
        },
        "outputId": "a2a06598-a671-43ad-d9b2-dd7663f484d7"
      },
      "source": [
        "print(Y_train.dtype)"
      ],
      "execution_count": 26,
      "outputs": [
        {
          "output_type": "stream",
          "text": [
            "uint8\n"
          ],
          "name": "stdout"
        }
      ]
    },
    {
      "cell_type": "code",
      "metadata": {
        "id": "RgYqJm1who1A",
        "colab_type": "code",
        "colab": {}
      },
      "source": [
        "# print(Y_train[0,250,:,0])"
      ],
      "execution_count": 27,
      "outputs": []
    },
    {
      "cell_type": "code",
      "metadata": {
        "id": "YZJueqR6wW9R",
        "colab_type": "code",
        "colab": {}
      },
      "source": [
        "# 将标签转换为分类的 one-hot 编码\n",
        "from keras.utils import to_categorical,normalize  \n",
        "Y_train = to_categorical(Y_train,num_classes=6)\n",
        "Y_val = to_categorical(Y_val,num_classes=6)\n",
        "# Y_test = to_categorical(Y_test)\n",
        "X_train = (X_train-np.mean(X_train))/np.std(X_train)\n",
        "X_test = (X_test-np.mean(X_test))/np.std(X_test)\n",
        "X_val = (X_val-np.mean(X_val))/np.std(X_val)"
      ],
      "execution_count": 28,
      "outputs": []
    },
    {
      "cell_type": "code",
      "metadata": {
        "id": "0DeaL9S4kj38",
        "colab_type": "code",
        "colab": {}
      },
      "source": [
        "# import keras\n",
        "\n",
        "# data=keras.utils.to_categorical([2,3])   #num_classes是none的情况\n",
        "# # data=keras.utils.to_categorical([[2],[3]])\n",
        "# print(data)\n",
        "# \"\"\"\n",
        "# [[0. 0. 1. 0.]\n",
        "#  [0. 0. 0. 1.]]\n",
        "# \"\"\"\n",
        "# data=keras.utils.to_categorical([2,3],num_classes=5)\n",
        "# print(data)\n",
        "# \"\"\"\n",
        "# [[0. 0. 1. 0. 0.]\n",
        "#  [0. 0. 0. 1. 0.]]\n"
      ],
      "execution_count": 29,
      "outputs": []
    },
    {
      "cell_type": "code",
      "metadata": {
        "id": "uZ0PciVnmIfi",
        "colab_type": "code",
        "colab": {
          "base_uri": "https://localhost:8080/",
          "height": 115
        },
        "outputId": "0cf8bd2d-346e-4f23-c822-9dbfe4a6a0a1"
      },
      "source": [
        "X_train.shape,Y_train.shape, X_val.shape, Y_val.shape, X_test.shape, Y_test.shape"
      ],
      "execution_count": 30,
      "outputs": [
        {
          "output_type": "execute_result",
          "data": {
            "text/plain": [
              "((41, 512, 512, 1),\n",
              " (41, 512, 512, 6),\n",
              " (18, 512, 512, 1),\n",
              " (18, 512, 512, 6),\n",
              " (11, 512, 512, 1),\n",
              " (11, 512, 512, 1))"
            ]
          },
          "metadata": {
            "tags": []
          },
          "execution_count": 30
        }
      ]
    },
    {
      "cell_type": "code",
      "metadata": {
        "id": "ZeuFCqbDNwGH",
        "colab_type": "code",
        "colab": {
          "base_uri": "https://localhost:8080/",
          "height": 115
        },
        "outputId": "31eee32f-a0d8-4c49-cd99-f423f13022c7"
      },
      "source": [
        "X_train.dtype,Y_train.dtype, X_val.dtype, Y_val.dtype, X_test.dtype, Y_test.dtype"
      ],
      "execution_count": 31,
      "outputs": [
        {
          "output_type": "execute_result",
          "data": {
            "text/plain": [
              "(dtype('float32'),\n",
              " dtype('float32'),\n",
              " dtype('float32'),\n",
              " dtype('float32'),\n",
              " dtype('float32'),\n",
              " dtype('uint8'))"
            ]
          },
          "metadata": {
            "tags": []
          },
          "execution_count": 31
        }
      ]
    },
    {
      "cell_type": "code",
      "metadata": {
        "id": "fPAbR7g3wXxr",
        "colab_type": "code",
        "colab": {
          "base_uri": "https://localhost:8080/",
          "height": 337
        },
        "outputId": "ce970f9d-02af-44c7-e62a-6db6a8ba302a"
      },
      "source": [
        "#Saving the data one by one total set 4\n",
        "np.save('X_train1.npy',X_train)\n",
        "np.save('Y_train1.npy',Y_train)\n",
        "np.save('X_val1.npy',X_val)\n",
        "np.save('Y_val1.npy',Y_val)\n",
        "np.save('X_test1.npy',X_test)\n",
        "np.save('Y_test1.npy',Y_test)"
      ],
      "execution_count": 32,
      "outputs": [
        {
          "output_type": "error",
          "ename": "KeyboardInterrupt",
          "evalue": "ignored",
          "traceback": [
            "\u001b[0;31m---------------------------------------------------------------------------\u001b[0m",
            "\u001b[0;31mKeyboardInterrupt\u001b[0m                         Traceback (most recent call last)",
            "\u001b[0;32m<ipython-input-32-6ee7b138e512>\u001b[0m in \u001b[0;36m<module>\u001b[0;34m()\u001b[0m\n\u001b[1;32m      5\u001b[0m \u001b[0mnp\u001b[0m\u001b[0;34m.\u001b[0m\u001b[0msave\u001b[0m\u001b[0;34m(\u001b[0m\u001b[0;34m'Y_val1.npy'\u001b[0m\u001b[0;34m,\u001b[0m\u001b[0mY_val\u001b[0m\u001b[0;34m)\u001b[0m\u001b[0;34m\u001b[0m\u001b[0;34m\u001b[0m\u001b[0m\n\u001b[1;32m      6\u001b[0m \u001b[0mnp\u001b[0m\u001b[0;34m.\u001b[0m\u001b[0msave\u001b[0m\u001b[0;34m(\u001b[0m\u001b[0;34m'X_test1.npy'\u001b[0m\u001b[0;34m,\u001b[0m\u001b[0mX_test\u001b[0m\u001b[0;34m)\u001b[0m\u001b[0;34m\u001b[0m\u001b[0;34m\u001b[0m\u001b[0m\n\u001b[0;32m----> 7\u001b[0;31m \u001b[0mnp\u001b[0m\u001b[0;34m.\u001b[0m\u001b[0msave\u001b[0m\u001b[0;34m(\u001b[0m\u001b[0;34m'Y_test1.npy'\u001b[0m\u001b[0;34m,\u001b[0m\u001b[0mY_test\u001b[0m\u001b[0;34m)\u001b[0m\u001b[0;34m\u001b[0m\u001b[0;34m\u001b[0m\u001b[0m\n\u001b[0m",
            "\u001b[0;32m<__array_function__ internals>\u001b[0m in \u001b[0;36msave\u001b[0;34m(*args, **kwargs)\u001b[0m\n",
            "\u001b[0;32m/usr/local/lib/python3.6/dist-packages/numpy/lib/npyio.py\u001b[0m in \u001b[0;36msave\u001b[0;34m(file, arr, allow_pickle, fix_imports)\u001b[0m\n\u001b[1;32m    539\u001b[0m         \u001b[0;32mif\u001b[0m \u001b[0;32mnot\u001b[0m \u001b[0mfile\u001b[0m\u001b[0;34m.\u001b[0m\u001b[0mendswith\u001b[0m\u001b[0;34m(\u001b[0m\u001b[0;34m'.npy'\u001b[0m\u001b[0;34m)\u001b[0m\u001b[0;34m:\u001b[0m\u001b[0;34m\u001b[0m\u001b[0;34m\u001b[0m\u001b[0m\n\u001b[1;32m    540\u001b[0m             \u001b[0mfile\u001b[0m \u001b[0;34m=\u001b[0m \u001b[0mfile\u001b[0m \u001b[0;34m+\u001b[0m \u001b[0;34m'.npy'\u001b[0m\u001b[0;34m\u001b[0m\u001b[0;34m\u001b[0m\u001b[0m\n\u001b[0;32m--> 541\u001b[0;31m         \u001b[0mfid\u001b[0m \u001b[0;34m=\u001b[0m \u001b[0mopen\u001b[0m\u001b[0;34m(\u001b[0m\u001b[0mfile\u001b[0m\u001b[0;34m,\u001b[0m \u001b[0;34m\"wb\"\u001b[0m\u001b[0;34m)\u001b[0m\u001b[0;34m\u001b[0m\u001b[0;34m\u001b[0m\u001b[0m\n\u001b[0m\u001b[1;32m    542\u001b[0m         \u001b[0mown_fid\u001b[0m \u001b[0;34m=\u001b[0m \u001b[0;32mTrue\u001b[0m\u001b[0;34m\u001b[0m\u001b[0;34m\u001b[0m\u001b[0m\n\u001b[1;32m    543\u001b[0m \u001b[0;34m\u001b[0m\u001b[0m\n",
            "\u001b[0;31mKeyboardInterrupt\u001b[0m: "
          ]
        }
      ]
    },
    {
      "cell_type": "markdown",
      "metadata": {
        "id": "DMFRubY3qhAM",
        "colab_type": "text"
      },
      "source": [
        "###**U-net + dice loss**"
      ]
    },
    {
      "cell_type": "markdown",
      "metadata": {
        "id": "94CamkxBbp00",
        "colab_type": "text"
      },
      "source": [
        "####**Loading data**"
      ]
    },
    {
      "cell_type": "code",
      "metadata": {
        "id": "p2ZMVYxpqgaq",
        "colab_type": "code",
        "colab": {}
      },
      "source": [
        "import numpy as np"
      ],
      "execution_count": null,
      "outputs": []
    },
    {
      "cell_type": "code",
      "metadata": {
        "id": "tBnSTUYwb_7m",
        "colab_type": "code",
        "colab": {}
      },
      "source": [
        "# X_train = np.load('X_train2.npy')\n",
        "# Y_train = np.load('Y_train2.npy')"
      ],
      "execution_count": null,
      "outputs": []
    },
    {
      "cell_type": "code",
      "metadata": {
        "id": "MIhdACpZcEQ0",
        "colab_type": "code",
        "colab": {}
      },
      "source": [
        "# X_val = np.load('X_val2.npy')\n",
        "# Y_val = np.load('Y_val2.npy')"
      ],
      "execution_count": null,
      "outputs": []
    },
    {
      "cell_type": "code",
      "metadata": {
        "id": "zyDBZgzIcQbD",
        "colab_type": "code",
        "colab": {}
      },
      "source": [
        "X_train.shape,Y_train.shape,X_val.shape,Y_val.shape"
      ],
      "execution_count": null,
      "outputs": []
    },
    {
      "cell_type": "code",
      "metadata": {
        "id": "s15TjFFw20im",
        "colab_type": "code",
        "colab": {}
      },
      "source": [
        "# X_train = np.transpose(X_train,(1,2,0))"
      ],
      "execution_count": null,
      "outputs": []
    },
    {
      "cell_type": "code",
      "metadata": {
        "id": "QrWz_73vdLV8",
        "colab_type": "code",
        "colab": {}
      },
      "source": [
        "# Y_train = np.transpose(Y_train,(1,2,0,3))"
      ],
      "execution_count": null,
      "outputs": []
    },
    {
      "cell_type": "code",
      "metadata": {
        "id": "kguPzQFgdK5x",
        "colab_type": "code",
        "colab": {}
      },
      "source": [
        "# X_val = np.transpose(X_val,(1,2,0))"
      ],
      "execution_count": null,
      "outputs": []
    },
    {
      "cell_type": "code",
      "metadata": {
        "id": "MqcUZ1TOdKhF",
        "colab_type": "code",
        "colab": {}
      },
      "source": [
        "# Y_val = np.transpose(Y_val,(1,2,0,3))"
      ],
      "execution_count": null,
      "outputs": []
    },
    {
      "cell_type": "code",
      "metadata": {
        "id": "1n_Ys49ndDKH",
        "colab_type": "code",
        "colab": {}
      },
      "source": [
        "# X_train.shape,Y_train.shape,X_val.shape,Y_val.shape"
      ],
      "execution_count": null,
      "outputs": []
    },
    {
      "cell_type": "code",
      "metadata": {
        "id": "GNrVFzracdhN",
        "colab_type": "code",
        "colab": {}
      },
      "source": [
        "%tensorflow_version 1.x\n",
        "from keras.models import Model\n",
        "from keras.layers import MaxPooling2D,Conv2D,Dense,BatchNormalization,concatenate,Input,Dropout,Maximum,Activation,Dense,Flatten,UpSampling2D,Conv2DTranspose\n",
        "from keras.optimizers import SGD,Adam,RMSprop\n",
        "import keras.callbacks as callbacks\n",
        "import keras.initializers as initializers\n",
        "from keras.callbacks import Callback\n",
        "from keras import regularizers"
      ],
      "execution_count": null,
      "outputs": []
    },
    {
      "cell_type": "markdown",
      "metadata": {
        "id": "EOgXxhQYLJzN",
        "colab_type": "text"
      },
      "source": [
        "####**U-Net**"
      ]
    },
    {
      "cell_type": "code",
      "metadata": {
        "id": "cR5wSW0hdI7X",
        "colab_type": "code",
        "colab": {}
      },
      "source": [
        "############################################ U-net #############################################\n",
        "\n",
        "############ Encoder #############\n",
        "input_ = Input(shape=(512,512,1),name='input')                                              \n",
        "\n",
        "block1_conv1 = Conv2D(64,(3, 3),padding='same',activation='relu',name='block1_conv1')(input_)\n",
        "block1_conv2 = Conv2D(64,(3, 3),padding='same',activation='relu',name='block1_conv2')(block1_conv1)\n",
        "block1_norm = BatchNormalization(name='block1_batch_norm')(block1_conv2)\n",
        "block1_pool = MaxPooling2D(name='block1_pool')(block1_norm)\n",
        "\n",
        "block2_conv1 = Conv2D(128,(3, 3),padding='same',activation='relu',name='block2_conv1')(block1_pool)\n",
        "block2_conv2 = Conv2D(128,(3, 3),padding='same',activation='relu',name='block2_conv2')(block2_conv1)\n",
        "block2_norm = BatchNormalization(name='block2_batch_norm')(block2_conv2)\n",
        "block2_pool = MaxPooling2D(name='block2_pool')(block2_norm)\n",
        "\n",
        "encoder_dropout_1 = Dropout(0.2,name='encoder_dropout_1')(block2_pool)\n",
        "\n",
        "block3_conv1 = Conv2D(256,(3, 3),padding='same',activation='relu',name='block3_conv1')(encoder_dropout_1)\n",
        "block3_conv2 = Conv2D(256,(3, 3),padding='same',activation='relu',name='block3_conv2')(block3_conv1)\n",
        "block3_norm = BatchNormalization(name='block3_batch_norm')(block3_conv2)\n",
        "block3_pool = MaxPooling2D(name='block3_pool')(block3_norm)\n",
        "\n",
        "block4_conv1 = Conv2D(512,(3, 3),padding='same',activation='relu',name='block4_conv1')(block3_pool)\n",
        "block4_conv2 = Conv2D(512,(3, 3),padding='same',activation='relu',name='block4_conv2')(block4_conv1)\n",
        "block4_norm = BatchNormalization(name='block4_batch_norm')(block4_conv2)\n",
        "block4_pool = MaxPooling2D(name='block4_pool')(block4_norm)\n",
        "################### Encoder end ######################\n",
        "\n",
        "block5_conv1 = Conv2D(1024,(3, 3),padding='same',activation='relu',name='block5_conv1')(block4_pool)\n",
        "encoder_dropout_2 = Dropout(0.2,name='encoder_dropout_2')(block5_conv1)\n",
        "\n",
        "########### Decoder ################\n",
        "\n",
        "up_pool1 = Conv2DTranspose(1024,(3, 3),strides = (2, 2),padding='same',activation='relu',name='up_pool1')(block5_conv1)\n",
        "merged_block1 = concatenate([block4_norm,up_pool1],name='merged_block1')\n",
        "decod_block1_conv1 = Conv2D(512,3, padding = 'same', activation='relu',name='decod_block1_conv1')(merged_block1)\n",
        "\n",
        "up_pool2 = Conv2DTranspose(512,(3, 3),strides = (2, 2),padding='same',activation='relu',name='up_pool2')(decod_block1_conv1)\n",
        "merged_block2 = concatenate([block3_norm,up_pool2],name='merged_block2')\n",
        "decod_block2_conv1 = Conv2D(256,(3, 3),padding = 'same',activation='relu',name='decod_block2_conv1')(merged_block2)\n",
        "\n",
        "decoder_dropout_1 = Dropout(0.2,name='decoder_dropout_1')(decod_block2_conv1)\n",
        "\n",
        "up_pool3 = Conv2DTranspose(256,(3, 3),strides = (2, 2),padding='same',activation='relu',name='up_pool3')(decoder_dropout_1)\n",
        "merged_block3 = concatenate([block2_norm,up_pool3],name='merged_block3')\n",
        "decod_block3_conv1 = Conv2D(128,(3, 3),padding = 'same',activation='relu',name='decod_block3_conv1')(merged_block3)\n",
        "\n",
        "up_pool4 = Conv2DTranspose(128,(3, 3),strides = (2, 2),padding='same',activation='relu',name='up_pool4')(decod_block3_conv1)\n",
        "merged_block4 = concatenate([block1_norm,up_pool4],name='merged_block4')\n",
        "decod_block4_conv1 = Conv2D(64,(3, 3),padding = 'same',activation='relu',name='decod_block4_conv1')(merged_block4)\n",
        "############ Decoder End ######################################\n",
        "\n",
        "decoder_dropout_2 = Dropout(0.2,name='decoder_dropout_2')(decod_block4_conv1)\n",
        "\n",
        "pre_output = Conv2D(64,(1,1),padding = 'same',activation='relu',name='pre_output')(decod_block4_conv1)\n",
        "\n",
        "output = Conv2D(7,(1,1),padding='same',activation='softmax',name='output')(pre_output)\n",
        "\n",
        "model = Model(inputs = input_, outputs = output)\n",
        "model.summary()"
      ],
      "execution_count": null,
      "outputs": []
    },
    {
      "cell_type": "code",
      "metadata": {
        "id": "eXhBcY-XiLCA",
        "colab_type": "code",
        "colab": {}
      },
      "source": [
        "from keras.utils import  plot_model\n",
        "plot_model(model,to_file='unet.png',show_shapes=True)"
      ],
      "execution_count": null,
      "outputs": []
    },
    {
      "cell_type": "markdown",
      "metadata": {
        "id": "F9Mg46H2iZhO",
        "colab_type": "text"
      },
      "source": [
        "####**Dice Loss**"
      ]
    },
    {
      "cell_type": "code",
      "metadata": {
        "id": "F2o_QNO3GpPc",
        "colab_type": "code",
        "colab": {}
      },
      "source": [
        "import keras"
      ],
      "execution_count": null,
      "outputs": []
    },
    {
      "cell_type": "code",
      "metadata": {
        "id": "bMYWQCJFyIyJ",
        "colab_type": "code",
        "colab": {}
      },
      "source": [
        "# b = np.array([[1, 2], [3, 4]])\n",
        "# print(b.shape,'\\n',b)\n",
        "# b1=np.tile(b, 2)\n",
        "# print(b1.shape,'\\n',b1)\n",
        "# b2=np.tile(b, (3,1, 1))\n",
        "# print(b2.shape,'\\n',b2)"
      ],
      "execution_count": null,
      "outputs": []
    },
    {
      "cell_type": "code",
      "metadata": {
        "id": "xM6uYJuviVlb",
        "colab_type": "code",
        "colab": {}
      },
      "source": [
        "from keras import backend as K \n",
        "def dice_coef(y_true, y_pred, epsilon=1e-6):\n",
        "    intersection = K.sum(K.abs(y_true * y_pred), axis=-1)\n",
        "    return (2. * intersection) / (K.sum(K.square(y_true),axis=-1) + K.sum(K.square(y_pred),axis=-1) + epsilon)\n",
        "\n",
        "def dice_coef_loss(y_true, y_pred):\n",
        "    return 1-dice_coef(y_true, y_pred)"
      ],
      "execution_count": null,
      "outputs": []
    },
    {
      "cell_type": "markdown",
      "metadata": {
        "id": "UaJ7p8GqXuRK",
        "colab_type": "text"
      },
      "source": [
        "现有的梯度下降中的一些超参数是在归一化之后的输入数据范围内搜到的。你如果参考别人的算法超参数，只有数值计算的范围一致，才有可能达到相同的结果。"
      ]
    },
    {
      "cell_type": "code",
      "metadata": {
        "id": "nl9kiu97jQ6n",
        "colab_type": "code",
        "colab": {}
      },
      "source": [
        "model.compile(optimizer=Adam(lr=1e-5),loss=dice_coef_loss,metrics=[dice_coef])\n",
        "# keras读取h5文件 1、keras.models.load_model() 读取网络、权重   2、keras.models.load_weights() 仅读取权重; load_model代码包含load_weights的代码，区别在于load_weights时需要先有网络、并且load_weights需要将权重数据写入到对应网络层的tensor中。\n",
        "# model.load_weights('/content/drive/My Drive/Yours ANN :))/weights.hdf5')\n",
        "checkpointer = callbacks.ModelCheckpoint(filepath = '/content/drive/My Drive/Yours ANN :))/weights.hdf5',save_best_only=True)   # 在每个训练期之后保存模型 \n",
        "# Tensorboard 实现基本可视化; TensorBoard 是由Tensorflow提供的一个可视化工具; 这个回调函数为Tensorboard编写一个日志,这样你可以可视化测试和训练的标准评估的动态图像,也可以可视化模型中不同层的激活值直方图.\n",
        "training_log = keras.callbacks.TensorBoard(log_dir='/content/drive/My Drive/Yours ANN :))/Model_logs') "
      ],
      "execution_count": null,
      "outputs": []
    },
    {
      "cell_type": "code",
      "metadata": {
        "id": "nksXz55kjTZ0",
        "colab_type": "code",
        "colab": {}
      },
      "source": [
        "history = model.fit(X_train,Y_train,validation_data=(X_val,Y_val),batch_size=4,epochs=10,callbacks=[training_log,checkpointer],shuffle=True)"
      ],
      "execution_count": null,
      "outputs": []
    },
    {
      "cell_type": "code",
      "metadata": {
        "id": "lpFYZSCyZFzN",
        "colab_type": "code",
        "colab": {}
      },
      "source": [
        "# summarize history for loss\n",
        "import matplotlib.pyplot as plt\n",
        "plt.plot(history.history['loss'])\n",
        "plt.plot(history.history['val_loss'])\n",
        "plt.title('model loss')\n",
        "plt.ylabel('dice coef loss')\n",
        "plt.xlabel('epoch')\n",
        "plt.legend(['train', 'val'], loc='upper left')\n",
        "plt.show()\n",
        "plt.plot(history.history['dice_coef'])\n",
        "plt.plot(history.history['val_dice_coef'])\n",
        "plt.title('model score')\n",
        "plt.ylabel('dice coef')\n",
        "plt.xlabel('epoch')\n",
        "plt.legend(['train', 'val'], loc='upper left')\n",
        "plt.show()"
      ],
      "execution_count": null,
      "outputs": []
    },
    {
      "cell_type": "code",
      "metadata": {
        "id": "C_MImVN1ZGq8",
        "colab_type": "code",
        "colab": {}
      },
      "source": [
        "X_test = np.load('./X_test1.npy')\n",
        "Y_test = np.load('./Y_test1.npy')"
      ],
      "execution_count": null,
      "outputs": []
    },
    {
      "cell_type": "code",
      "metadata": {
        "id": "tAZClH6DZWO6",
        "colab_type": "code",
        "colab": {}
      },
      "source": [
        "Y_pre = model.predict(X_test)"
      ],
      "execution_count": null,
      "outputs": []
    },
    {
      "cell_type": "code",
      "metadata": {
        "id": "C452FqdUZkPr",
        "colab_type": "code",
        "colab": {}
      },
      "source": [
        "Y_pre.dtype"
      ],
      "execution_count": null,
      "outputs": []
    },
    {
      "cell_type": "code",
      "metadata": {
        "id": "fEho-D3RlQeI",
        "colab_type": "code",
        "colab": {}
      },
      "source": [
        "# print(Y_pre)"
      ],
      "execution_count": null,
      "outputs": []
    },
    {
      "cell_type": "code",
      "metadata": {
        "id": "ClzVOzhBDcWv",
        "colab_type": "code",
        "colab": {}
      },
      "source": [
        "np.save('Y_pre1.npy',Y_pre)"
      ],
      "execution_count": null,
      "outputs": []
    },
    {
      "cell_type": "code",
      "metadata": {
        "id": "spaJGv6wZiai",
        "colab_type": "code",
        "colab": {}
      },
      "source": [
        "# np.unique(Y_pre)"
      ],
      "execution_count": null,
      "outputs": []
    },
    {
      "cell_type": "code",
      "metadata": {
        "id": "aPf1cj6KZn1y",
        "colab_type": "code",
        "colab": {}
      },
      "source": [
        "Y_test.shape,X_test.shape,Y_pre.shape"
      ],
      "execution_count": null,
      "outputs": []
    },
    {
      "cell_type": "code",
      "metadata": {
        "id": "tesYCC_DmBzw",
        "colab_type": "code",
        "colab": {}
      },
      "source": [
        "Y_test.dtype,X_test.dtype,Y_pre.dtype"
      ],
      "execution_count": null,
      "outputs": []
    },
    {
      "cell_type": "code",
      "metadata": {
        "id": "MIdMs6kOZuoq",
        "colab_type": "code",
        "colab": {}
      },
      "source": [
        "for i in range(0,4):\n",
        "  print('X_test '+ str(i))\n",
        "  plt.imshow(X_test[i,:,:,0])\n",
        "  plt.show()\n",
        "  for j in range(0,6):\n",
        "    plt.imshow(Y_pre[i,:,:,j])\n",
        "    plt.show()\n",
        "  plt.imshow(Y_test[i,:,:,0])\n",
        "  plt.show()"
      ],
      "execution_count": null,
      "outputs": []
    }
  ]
}